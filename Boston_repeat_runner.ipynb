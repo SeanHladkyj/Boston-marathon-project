{
 "cells": [
  {
   "cell_type": "code",
   "execution_count": 92,
   "metadata": {},
   "outputs": [
    {
     "name": "stdout",
     "output_type": "stream",
     "text": [
      "[nltk_data] Downloading package stopwords to\n",
      "[nltk_data]     C:\\Users\\Ylja\\AppData\\Roaming\\nltk_data...\n",
      "[nltk_data]   Package stopwords is already up-to-date!\n",
      "[nltk_data] Downloading package wordnet to\n",
      "[nltk_data]     C:\\Users\\Ylja\\AppData\\Roaming\\nltk_data...\n",
      "[nltk_data]   Package wordnet is already up-to-date!\n"
     ]
    }
   ],
   "source": [
    "import random\n",
    "import pandas as pd\n",
    "import numpy as np\n",
    "import matplotlib.pylab as plt\n",
    "import nltk\n",
    "nltk.download('stopwords')\n",
    "nltk.download('wordnet')\n",
    "  \n",
    "from nltk.tokenize import RegexpTokenizer\n",
    "from nltk.stem import WordNetLemmatizer,PorterStemmer\n",
    "from nltk.corpus import stopwords\n",
    "import re\n",
    "lemmatizer = WordNetLemmatizer()\n",
    "stemmer = PorterStemmer() \n",
    "import datetime\n",
    "now = datetime.datetime.now()\n",
    "import scipy.stats as stats\n",
    "import statsmodels.api as sm\n",
    "from statsmodels.formula.api import ols\n",
    "import seaborn as sns\n",
    "    \n",
    "%matplotlib inline"
   ]
  },
  {
   "cell_type": "markdown",
   "metadata": {},
   "source": [
    "# Import datasets\n"
   ]
  },
  {
   "cell_type": "code",
   "execution_count": 2,
   "metadata": {},
   "outputs": [],
   "source": [
    "boston15 = pd.read_csv(\"marathon_results_2015.csv\", index_col=0)\n",
    "boston16 = pd.read_csv(\"marathon_results_2016.csv\", index_col=0)\n",
    "boston17 = pd.read_csv(\"marathon_results_2017.csv\", index_col=0)\n",
    "\n",
    "#add variable for the year\n",
    "boston15['Year'] = 2015\n",
    "boston16['Year'] = 2016\n",
    "boston17['Year'] = 2017\n",
    "\n",
    "#change variable names \n",
    "boston15.rename(columns={'M/F':'Sex'}, inplace=True)\n",
    "boston16.rename(columns={'M/F':'Sex'}, inplace=True)\n",
    "boston17.rename(columns={'M/F':'Sex'}, inplace=True)"
   ]
  },
  {
   "cell_type": "markdown",
   "metadata": {},
   "source": [
    "# Preprocessing of the names"
   ]
  },
  {
   "cell_type": "code",
   "execution_count": 3,
   "metadata": {},
   "outputs": [],
   "source": [
    "def preprocess(sentence):\n",
    "    sentence=str(sentence)\n",
    "    sentence = sentence.lower()\n",
    "    sentence=sentence.replace('{html}',\"\") \n",
    "    cleanr = re.compile('<.*?>')\n",
    "    cleantext = re.sub(cleanr, '', sentence)\n",
    "    rem_url=re.sub(r'http\\S+', '',cleantext)\n",
    "    rem_num = re.sub('[0-9]+', '', rem_url)\n",
    "    tokenizer = RegexpTokenizer(r'\\w+')\n",
    "    tokens = tokenizer.tokenize(rem_num)  \n",
    "    filtered_words = [w for w in tokens if len(w) > 2 if not w in stopwords.words('english')]\n",
    "    stem_words=[stemmer.stem(w) for w in filtered_words]\n",
    "    lemma_words=[lemmatizer.lemmatize(w) for w in stem_words]\n",
    "    return \" \".join(filtered_words)\n",
    "\n",
    "\n",
    "boston15['Name']=boston15['Name'].map(lambda s:preprocess(s)) \n",
    "boston16['Name']=boston16['Name'].map(lambda s:preprocess(s))\n",
    "boston17['Name']=boston17['Name'].map(lambda s:preprocess(s))\n"
   ]
  },
  {
   "cell_type": "markdown",
   "metadata": {},
   "source": [
    "# Check for repeat runners"
   ]
  },
  {
   "cell_type": "code",
   "execution_count": 4,
   "metadata": {},
   "outputs": [
    {
     "data": {
      "text/html": [
       "<div>\n",
       "<style scoped>\n",
       "    .dataframe tbody tr th:only-of-type {\n",
       "        vertical-align: middle;\n",
       "    }\n",
       "\n",
       "    .dataframe tbody tr th {\n",
       "        vertical-align: top;\n",
       "    }\n",
       "\n",
       "    .dataframe thead th {\n",
       "        text-align: right;\n",
       "    }\n",
       "</style>\n",
       "<table border=\"1\" class=\"dataframe\">\n",
       "  <thead>\n",
       "    <tr style=\"text-align: right;\">\n",
       "      <th></th>\n",
       "      <th>Bib</th>\n",
       "      <th>Name</th>\n",
       "      <th>Age</th>\n",
       "      <th>Sex</th>\n",
       "      <th>City</th>\n",
       "      <th>State</th>\n",
       "      <th>Country</th>\n",
       "      <th>Citizen</th>\n",
       "      <th>Unnamed: 9</th>\n",
       "      <th>5K</th>\n",
       "      <th>...</th>\n",
       "      <th>Proj Time</th>\n",
       "      <th>Official Time</th>\n",
       "      <th>Overall</th>\n",
       "      <th>Gender</th>\n",
       "      <th>Division</th>\n",
       "      <th>Year</th>\n",
       "      <th>Unnamed: 8</th>\n",
       "      <th>Birth</th>\n",
       "      <th>Id</th>\n",
       "      <th>Counts</th>\n",
       "    </tr>\n",
       "  </thead>\n",
       "  <tbody>\n",
       "    <tr>\n",
       "      <th>0</th>\n",
       "      <td>3</td>\n",
       "      <td>desisa lelisa</td>\n",
       "      <td>25</td>\n",
       "      <td>M</td>\n",
       "      <td>Ambo</td>\n",
       "      <td>0</td>\n",
       "      <td>ETH</td>\n",
       "      <td>0</td>\n",
       "      <td>0</td>\n",
       "      <td>00:14:43</td>\n",
       "      <td>...</td>\n",
       "      <td>-</td>\n",
       "      <td>02:09:17</td>\n",
       "      <td>1</td>\n",
       "      <td>1</td>\n",
       "      <td>1</td>\n",
       "      <td>2015</td>\n",
       "      <td>0</td>\n",
       "      <td>1990</td>\n",
       "      <td>1990_desisa lelisa_M_0</td>\n",
       "      <td>2</td>\n",
       "    </tr>\n",
       "    <tr>\n",
       "      <th>1</th>\n",
       "      <td>4</td>\n",
       "      <td>tsegay yemane adhane</td>\n",
       "      <td>30</td>\n",
       "      <td>M</td>\n",
       "      <td>Addis Ababa</td>\n",
       "      <td>0</td>\n",
       "      <td>ETH</td>\n",
       "      <td>0</td>\n",
       "      <td>0</td>\n",
       "      <td>00:14:43</td>\n",
       "      <td>...</td>\n",
       "      <td>-</td>\n",
       "      <td>02:09:48</td>\n",
       "      <td>2</td>\n",
       "      <td>2</td>\n",
       "      <td>2</td>\n",
       "      <td>2015</td>\n",
       "      <td>0</td>\n",
       "      <td>1985</td>\n",
       "      <td>1985_tsegay yemane adhane_M_0</td>\n",
       "      <td>2</td>\n",
       "    </tr>\n",
       "    <tr>\n",
       "      <th>2</th>\n",
       "      <td>8</td>\n",
       "      <td>chebet wilson</td>\n",
       "      <td>29</td>\n",
       "      <td>M</td>\n",
       "      <td>Marakwet</td>\n",
       "      <td>0</td>\n",
       "      <td>KEN</td>\n",
       "      <td>0</td>\n",
       "      <td>0</td>\n",
       "      <td>00:14:43</td>\n",
       "      <td>...</td>\n",
       "      <td>-</td>\n",
       "      <td>02:10:22</td>\n",
       "      <td>3</td>\n",
       "      <td>3</td>\n",
       "      <td>3</td>\n",
       "      <td>2015</td>\n",
       "      <td>0</td>\n",
       "      <td>1986</td>\n",
       "      <td>1986_chebet wilson_M_0</td>\n",
       "      <td>2</td>\n",
       "    </tr>\n",
       "    <tr>\n",
       "      <th>3</th>\n",
       "      <td>11</td>\n",
       "      <td>kipyego bernard</td>\n",
       "      <td>28</td>\n",
       "      <td>M</td>\n",
       "      <td>Eldoret</td>\n",
       "      <td>0</td>\n",
       "      <td>KEN</td>\n",
       "      <td>0</td>\n",
       "      <td>0</td>\n",
       "      <td>00:14:43</td>\n",
       "      <td>...</td>\n",
       "      <td>-</td>\n",
       "      <td>02:10:47</td>\n",
       "      <td>4</td>\n",
       "      <td>4</td>\n",
       "      <td>4</td>\n",
       "      <td>2015</td>\n",
       "      <td>0</td>\n",
       "      <td>1987</td>\n",
       "      <td>1987_kipyego bernard_M_0</td>\n",
       "      <td>1</td>\n",
       "    </tr>\n",
       "    <tr>\n",
       "      <th>4</th>\n",
       "      <td>10</td>\n",
       "      <td>korir wesley</td>\n",
       "      <td>32</td>\n",
       "      <td>M</td>\n",
       "      <td>Kitale</td>\n",
       "      <td>0</td>\n",
       "      <td>KEN</td>\n",
       "      <td>0</td>\n",
       "      <td>0</td>\n",
       "      <td>00:14:43</td>\n",
       "      <td>...</td>\n",
       "      <td>-</td>\n",
       "      <td>02:10:49</td>\n",
       "      <td>5</td>\n",
       "      <td>5</td>\n",
       "      <td>5</td>\n",
       "      <td>2015</td>\n",
       "      <td>0</td>\n",
       "      <td>1983</td>\n",
       "      <td>1983_korir wesley_M_0</td>\n",
       "      <td>3</td>\n",
       "    </tr>\n",
       "  </tbody>\n",
       "</table>\n",
       "<p>5 rows × 29 columns</p>\n",
       "</div>"
      ],
      "text/plain": [
       "  Bib                  Name  Age Sex         City State Country Citizen  \\\n",
       "0   3         desisa lelisa   25   M         Ambo     0     ETH       0   \n",
       "1   4  tsegay yemane adhane   30   M  Addis Ababa     0     ETH       0   \n",
       "2   8         chebet wilson   29   M     Marakwet     0     KEN       0   \n",
       "3  11       kipyego bernard   28   M      Eldoret     0     KEN       0   \n",
       "4  10          korir wesley   32   M       Kitale     0     KEN       0   \n",
       "\n",
       "  Unnamed: 9        5K  ... Proj Time Official Time Overall Gender Division  \\\n",
       "0          0  00:14:43  ...         -      02:09:17       1      1        1   \n",
       "1          0  00:14:43  ...         -      02:09:48       2      2        2   \n",
       "2          0  00:14:43  ...         -      02:10:22       3      3        3   \n",
       "3          0  00:14:43  ...         -      02:10:47       4      4        4   \n",
       "4          0  00:14:43  ...         -      02:10:49       5      5        5   \n",
       "\n",
       "   Year Unnamed: 8 Birth                             Id Counts  \n",
       "0  2015          0  1990         1990_desisa lelisa_M_0      2  \n",
       "1  2015          0  1985  1985_tsegay yemane adhane_M_0      2  \n",
       "2  2015          0  1986         1986_chebet wilson_M_0      2  \n",
       "3  2015          0  1987       1987_kipyego bernard_M_0      1  \n",
       "4  2015          0  1983          1983_korir wesley_M_0      3  \n",
       "\n",
       "[5 rows x 29 columns]"
      ]
     },
     "execution_count": 4,
     "metadata": {},
     "output_type": "execute_result"
    }
   ],
   "source": [
    "merged = pd.concat([boston15,boston16,boston17], sort=False)\n",
    "merged[\"Birth\"] = merged[\"Year\"]-merged[\"Age\"]\n",
    "\n",
    "#Create unique identifier\n",
    "merged.fillna(0, inplace=True)\n",
    "\n",
    "merged[\"Id\"] = merged[\"Birth\"].astype(str) + \"_\" + merged[\"Name\"].astype(str) + \"_\" + merged[\"Sex\"].astype(str) + \"_\" + merged[\"Citizen\"].astype(str)  \n",
    "merged['Counts'] = merged.groupby(['Id'])['Year'].transform('count')\n",
    "merged = merged[merged.Counts < 4]\n",
    "#merged.to_csv(r\"C:\\Users\\Ylja\\OneDrive\\Afstuderen\\Marcel\\output.csv\")  # doctest: +SKIP\n",
    "merged.head()"
   ]
  },
  {
   "cell_type": "markdown",
   "metadata": {},
   "source": [
    "# Compare finish times"
   ]
  },
  {
   "cell_type": "code",
   "execution_count": 95,
   "metadata": {},
   "outputs": [
    {
     "data": {
      "image/png": "[encoded data removed]",
      "text/plain": [
       "<Figure size 432x288 with 1 Axes>"
      ]
     },
     "metadata": {},
     "output_type": "display_data"
    }
   ],
   "source": [
    "#merged['Finish'] = pd.to_datetime(merged['Official Time'], format='%H:%M:%S').dt.minute\n",
    "output = pd.read_csv(\"output.csv\", index_col=0, low_memory=False)\n",
    "\n",
    "#output.boxplot('Finish', by='Year', figsize=(12, 8), showmeans=True)\n",
    "ax = sns.barplot(x=output[\"Year\"], y=output[\"Finish\"], hue=output[\"Sex\"], data=output, palette=\"Blues_d\")\n"
   ]
  },
  {
   "cell_type": "markdown",
   "metadata": {},
   "source": [
    "# Investigate the repeat runners\n",
    "ANCOVA"
   ]
  },
  {
   "cell_type": "code",
   "execution_count": 114,
   "metadata": {},
   "outputs": [
    {
     "data": {
      "text/plain": [
       "F_onewayResult(statistic=156.6239600765373, pvalue=6.722748304968888e-68)"
      ]
     },
     "execution_count": 114,
     "metadata": {},
     "output_type": "execute_result"
    },
    {
     "data": {
      "image/png": "[encoded data removed]",
      "text/plain": [
       "<Figure size 432x288 with 1 Axes>"
      ]
     },
     "metadata": {},
     "output_type": "display_data"
    }
   ],
   "source": [
    "#Only look at the runner who have run 3 years in a row\n",
    "output = pd.read_csv(\"output.csv\", index_col=0, low_memory=False)\n",
    "multipleruns = output.loc[output[\"Counts\"]==3]\n",
    "multipleruns.tail(80)\n",
    "#multipleruns.boxplot('Finish', by='Year', figsize=(12, 8), showmeans=True)\n",
    "ax = sns.barplot(x=multipleruns[\"Year\"], y=multipleruns[\"Finish\"], hue=multipleruns[\"Sex\"], data=multipleruns, palette=\"Blues_d\")\n",
    "\n",
    "#Anova\n",
    "stats.f_oneway(multipleruns['Finish'][multipleruns['Year'] == 2015], \n",
    "             multipleruns['Finish'][multipleruns['Year'] == 2016],\n",
    "             multipleruns['Finish'][multipleruns['Year'] == 2017])"
   ]
  },
  {
   "cell_type": "code",
   "execution_count": 100,
   "metadata": {},
   "outputs": [
    {
     "data": {
      "text/html": [
       "<table class=\"simpletable\">\n",
       "<caption>OLS Regression Results</caption>\n",
       "<tr>\n",
       "  <th>Dep. Variable:</th>         <td>Finish</td>      <th>  R-squared:         </th> <td>   0.250</td> \n",
       "</tr>\n",
       "<tr>\n",
       "  <th>Model:</th>                   <td>OLS</td>       <th>  Adj. R-squared:    </th> <td>   0.250</td> \n",
       "</tr>\n",
       "<tr>\n",
       "  <th>Method:</th>             <td>Least Squares</td>  <th>  F-statistic:       </th> <td>   1028.</td> \n",
       "</tr>\n",
       "<tr>\n",
       "  <th>Date:</th>             <td>Tue, 04 Feb 2020</td> <th>  Prob (F-statistic):</th>  <td>  0.00</td>  \n",
       "</tr>\n",
       "<tr>\n",
       "  <th>Time:</th>                 <td>11:56:00</td>     <th>  Log-Likelihood:    </th> <td> -60875.</td> \n",
       "</tr>\n",
       "<tr>\n",
       "  <th>No. Observations:</th>      <td> 12351</td>      <th>  AIC:               </th> <td>1.218e+05</td>\n",
       "</tr>\n",
       "<tr>\n",
       "  <th>Df Residuals:</th>          <td> 12346</td>      <th>  BIC:               </th> <td>1.218e+05</td>\n",
       "</tr>\n",
       "<tr>\n",
       "  <th>Df Model:</th>              <td>     4</td>      <th>                     </th>     <td> </td>    \n",
       "</tr>\n",
       "<tr>\n",
       "  <th>Covariance Type:</th>      <td>nonrobust</td>    <th>                     </th>     <td> </td>    \n",
       "</tr>\n",
       "</table>\n",
       "<table class=\"simpletable\">\n",
       "<tr>\n",
       "         <td></td>            <th>coef</th>     <th>std err</th>      <th>t</th>      <th>P>|t|</th>  <th>[0.025</th>    <th>0.975]</th>  \n",
       "</tr>\n",
       "<tr>\n",
       "  <th>Intercept</th>       <td>  166.2268</td> <td>    1.350</td> <td>  123.174</td> <td> 0.000</td> <td>  163.582</td> <td>  168.872</td>\n",
       "</tr>\n",
       "<tr>\n",
       "  <th>C(Year)[T.2016]</th> <td>    6.5759</td> <td>    0.738</td> <td>    8.915</td> <td> 0.000</td> <td>    5.130</td> <td>    8.022</td>\n",
       "</tr>\n",
       "<tr>\n",
       "  <th>C(Year)[T.2017]</th> <td>   11.9464</td> <td>    0.739</td> <td>   16.155</td> <td> 0.000</td> <td>   10.497</td> <td>   13.396</td>\n",
       "</tr>\n",
       "<tr>\n",
       "  <th>Sex[T.M]</th>        <td>  -25.9444</td> <td>    0.626</td> <td>  -41.463</td> <td> 0.000</td> <td>  -27.171</td> <td>  -24.718</td>\n",
       "</tr>\n",
       "<tr>\n",
       "  <th>Age</th>             <td>    1.4542</td> <td>    0.028</td> <td>   51.842</td> <td> 0.000</td> <td>    1.399</td> <td>    1.509</td>\n",
       "</tr>\n",
       "</table>\n",
       "<table class=\"simpletable\">\n",
       "<tr>\n",
       "  <th>Omnibus:</th>       <td>4156.932</td> <th>  Durbin-Watson:     </th> <td>   0.374</td> \n",
       "</tr>\n",
       "<tr>\n",
       "  <th>Prob(Omnibus):</th>  <td> 0.000</td>  <th>  Jarque-Bera (JB):  </th> <td>13519.018</td>\n",
       "</tr>\n",
       "<tr>\n",
       "  <th>Skew:</th>           <td> 1.731</td>  <th>  Prob(JB):          </th> <td>    0.00</td> \n",
       "</tr>\n",
       "<tr>\n",
       "  <th>Kurtosis:</th>       <td> 6.780</td>  <th>  Cond. No.          </th> <td>    218.</td> \n",
       "</tr>\n",
       "</table><br/><br/>Warnings:<br/>[1] Standard Errors assume that the covariance matrix of the errors is correctly specified."
      ],
      "text/plain": [
       "<class 'statsmodels.iolib.summary.Summary'>\n",
       "\"\"\"\n",
       "                            OLS Regression Results                            \n",
       "==============================================================================\n",
       "Dep. Variable:                 Finish   R-squared:                       0.250\n",
       "Model:                            OLS   Adj. R-squared:                  0.250\n",
       "Method:                 Least Squares   F-statistic:                     1028.\n",
       "Date:                Tue, 04 Feb 2020   Prob (F-statistic):               0.00\n",
       "Time:                        11:56:00   Log-Likelihood:                -60875.\n",
       "No. Observations:               12351   AIC:                         1.218e+05\n",
       "Df Residuals:                   12346   BIC:                         1.218e+05\n",
       "Df Model:                           4                                         \n",
       "Covariance Type:            nonrobust                                         \n",
       "===================================================================================\n",
       "                      coef    std err          t      P>|t|      [0.025      0.975]\n",
       "-----------------------------------------------------------------------------------\n",
       "Intercept         166.2268      1.350    123.174      0.000     163.582     168.872\n",
       "C(Year)[T.2016]     6.5759      0.738      8.915      0.000       5.130       8.022\n",
       "C(Year)[T.2017]    11.9464      0.739     16.155      0.000      10.497      13.396\n",
       "Sex[T.M]          -25.9444      0.626    -41.463      0.000     -27.171     -24.718\n",
       "Age                 1.4542      0.028     51.842      0.000       1.399       1.509\n",
       "==============================================================================\n",
       "Omnibus:                     4156.932   Durbin-Watson:                   0.374\n",
       "Prob(Omnibus):                  0.000   Jarque-Bera (JB):            13519.018\n",
       "Skew:                           1.731   Prob(JB):                         0.00\n",
       "Kurtosis:                       6.780   Cond. No.                         218.\n",
       "==============================================================================\n",
       "\n",
       "Warnings:\n",
       "[1] Standard Errors assume that the covariance matrix of the errors is correctly specified.\n",
       "\"\"\""
      ]
     },
     "execution_count": 100,
     "metadata": {},
     "output_type": "execute_result"
    }
   ],
   "source": [
    "results = ols('Finish ~ C(Year) + Age + Sex ', data=multipleruns).fit()\n",
    "results.summary()"
   ]
  },
  {
   "cell_type": "code",
   "execution_count": 97,
   "metadata": {},
   "outputs": [
    {
     "data": {
      "text/html": [
       "<div>\n",
       "<style scoped>\n",
       "    .dataframe tbody tr th:only-of-type {\n",
       "        vertical-align: middle;\n",
       "    }\n",
       "\n",
       "    .dataframe tbody tr th {\n",
       "        vertical-align: top;\n",
       "    }\n",
       "\n",
       "    .dataframe thead th {\n",
       "        text-align: right;\n",
       "    }\n",
       "</style>\n",
       "<table border=\"1\" class=\"dataframe\">\n",
       "  <thead>\n",
       "    <tr style=\"text-align: right;\">\n",
       "      <th></th>\n",
       "      <th>sum_sq</th>\n",
       "      <th>df</th>\n",
       "      <th>F</th>\n",
       "      <th>PR(&gt;F)</th>\n",
       "    </tr>\n",
       "  </thead>\n",
       "  <tbody>\n",
       "    <tr>\n",
       "      <th>C(Year)</th>\n",
       "      <td>3.157410e+05</td>\n",
       "      <td>2.0</td>\n",
       "      <td>123.872244</td>\n",
       "      <td>5.439740e-54</td>\n",
       "    </tr>\n",
       "    <tr>\n",
       "      <th>Age</th>\n",
       "      <td>2.220643e+06</td>\n",
       "      <td>1.0</td>\n",
       "      <td>1742.416221</td>\n",
       "      <td>0.000000e+00</td>\n",
       "    </tr>\n",
       "    <tr>\n",
       "      <th>Residual</th>\n",
       "      <td>1.573578e+07</td>\n",
       "      <td>12347.0</td>\n",
       "      <td>NaN</td>\n",
       "      <td>NaN</td>\n",
       "    </tr>\n",
       "  </tbody>\n",
       "</table>\n",
       "</div>"
      ],
      "text/plain": [
       "                sum_sq       df            F        PR(>F)\n",
       "C(Year)   3.157410e+05      2.0   123.872244  5.439740e-54\n",
       "Age       2.220643e+06      1.0  1742.416221  0.000000e+00\n",
       "Residual  1.573578e+07  12347.0          NaN           NaN"
      ]
     },
     "execution_count": 97,
     "metadata": {},
     "output_type": "execute_result"
    }
   ],
   "source": [
    "aov_table = sm.stats.anova_lm(results, typ=2)\n",
    "aov_table"
   ]
  },
  {
   "cell_type": "markdown",
   "metadata": {},
   "source": [
    "# Compare the repeat runners to the one time runners per year"
   ]
  },
  {
   "cell_type": "code",
   "execution_count": 124,
   "metadata": {},
   "outputs": [
    {
     "data": {
      "image/png": "[encoded data removed]",
      "text/plain": [
       "<Figure size 432x288 with 1 Axes>"
      ]
     },
     "metadata": {},
     "output_type": "display_data"
    }
   ],
   "source": [
    "newoutput = output.loc[output[\"Counts\"]!=2]\n",
    "\n",
    "ax = sns.barplot(x=newoutput[\"Year\"], y=newoutput[\"Finish\"], hue=newoutput[\"Counts\"], data=newoutput, palette=\"Blues_d\")\n"
   ]
  }
 ],
 "metadata": {
  "kernelspec": {
   "display_name": "Python 3",
   "language": "python",
   "name": "python3"
  },
  "language_info": {
   "codemirror_mode": {
    "name": "ipython",
    "version": 3
   },
   "file_extension": ".py",
   "mimetype": "text/x-python",
   "name": "python",
   "nbconvert_exporter": "python",
   "pygments_lexer": "ipython3",
   "version": "3.7.6"
  }
 },
 "nbformat": 4,
 "nbformat_minor": 2
}
